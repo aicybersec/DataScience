{
 "cells": [
  {
   "cell_type": "markdown",
   "metadata": {},
   "source": [
    "Import necessary libraries. "
   ]
  },
  {
   "cell_type": "code",
   "execution_count": 34,
   "metadata": {},
   "outputs": [],
   "source": [
    "import numpy as np\n",
    "from pyod.models.lof import LOF\n",
    "from pyod.models.cof import COF\n",
    "from pycaret.anomaly import *\n",
    "\n",
    "from sklearn.preprocessing import MinMaxScaler\n",
    "from sklearn.cluster import DBSCAN"
   ]
  },
  {
   "cell_type": "code",
   "execution_count": 2,
   "metadata": {},
   "outputs": [],
   "source": [
    "input_df = pd.read_csv('cars.csv')"
   ]
  },
  {
   "cell_type": "code",
   "execution_count": 3,
   "metadata": {},
   "outputs": [
    {
     "data": {
      "text/html": [
       "<div>\n",
       "<style scoped>\n",
       "    .dataframe tbody tr th:only-of-type {\n",
       "        vertical-align: middle;\n",
       "    }\n",
       "\n",
       "    .dataframe tbody tr th {\n",
       "        vertical-align: top;\n",
       "    }\n",
       "\n",
       "    .dataframe thead th {\n",
       "        text-align: right;\n",
       "    }\n",
       "</style>\n",
       "<table border=\"1\" class=\"dataframe\">\n",
       "  <thead>\n",
       "    <tr style=\"text-align: right;\">\n",
       "      <th></th>\n",
       "      <th>mpg</th>\n",
       "      <th>cyl</th>\n",
       "      <th>disp</th>\n",
       "      <th>hp</th>\n",
       "      <th>wt</th>\n",
       "      <th>acc</th>\n",
       "      <th>yr</th>\n",
       "      <th>origin</th>\n",
       "      <th>car_name</th>\n",
       "    </tr>\n",
       "  </thead>\n",
       "  <tbody>\n",
       "    <tr>\n",
       "      <th>0</th>\n",
       "      <td>18.0</td>\n",
       "      <td>8</td>\n",
       "      <td>307.0</td>\n",
       "      <td>130</td>\n",
       "      <td>3504</td>\n",
       "      <td>12.0</td>\n",
       "      <td>70</td>\n",
       "      <td>1</td>\n",
       "      <td>chevrolet chevelle malibu</td>\n",
       "    </tr>\n",
       "    <tr>\n",
       "      <th>1</th>\n",
       "      <td>15.0</td>\n",
       "      <td>8</td>\n",
       "      <td>350.0</td>\n",
       "      <td>165</td>\n",
       "      <td>3693</td>\n",
       "      <td>11.5</td>\n",
       "      <td>70</td>\n",
       "      <td>1</td>\n",
       "      <td>buick skylark 320</td>\n",
       "    </tr>\n",
       "    <tr>\n",
       "      <th>2</th>\n",
       "      <td>18.0</td>\n",
       "      <td>8</td>\n",
       "      <td>318.0</td>\n",
       "      <td>150</td>\n",
       "      <td>3436</td>\n",
       "      <td>11.0</td>\n",
       "      <td>70</td>\n",
       "      <td>1</td>\n",
       "      <td>plymouth satellite</td>\n",
       "    </tr>\n",
       "    <tr>\n",
       "      <th>3</th>\n",
       "      <td>16.0</td>\n",
       "      <td>8</td>\n",
       "      <td>304.0</td>\n",
       "      <td>150</td>\n",
       "      <td>3433</td>\n",
       "      <td>12.0</td>\n",
       "      <td>70</td>\n",
       "      <td>1</td>\n",
       "      <td>amc rebel sst</td>\n",
       "    </tr>\n",
       "    <tr>\n",
       "      <th>4</th>\n",
       "      <td>17.0</td>\n",
       "      <td>8</td>\n",
       "      <td>302.0</td>\n",
       "      <td>140</td>\n",
       "      <td>3449</td>\n",
       "      <td>10.5</td>\n",
       "      <td>70</td>\n",
       "      <td>1</td>\n",
       "      <td>ford torino</td>\n",
       "    </tr>\n",
       "  </tbody>\n",
       "</table>\n",
       "</div>"
      ],
      "text/plain": [
       "    mpg  cyl   disp   hp    wt   acc  yr  origin                   car_name\n",
       "0  18.0    8  307.0  130  3504  12.0  70       1  chevrolet chevelle malibu\n",
       "1  15.0    8  350.0  165  3693  11.5  70       1          buick skylark 320\n",
       "2  18.0    8  318.0  150  3436  11.0  70       1         plymouth satellite\n",
       "3  16.0    8  304.0  150  3433  12.0  70       1              amc rebel sst\n",
       "4  17.0    8  302.0  140  3449  10.5  70       1                ford torino"
      ]
     },
     "execution_count": 3,
     "metadata": {},
     "output_type": "execute_result"
    }
   ],
   "source": [
    "input_df.head()"
   ]
  },
  {
   "cell_type": "markdown",
   "metadata": {},
   "source": [
    "Let's drop the car_name"
   ]
  },
  {
   "cell_type": "code",
   "execution_count": 4,
   "metadata": {},
   "outputs": [],
   "source": [
    "input_df.drop('car_name', axis=1, inplace=True)"
   ]
  },
  {
   "cell_type": "code",
   "execution_count": 5,
   "metadata": {},
   "outputs": [
    {
     "data": {
      "text/html": [
       "<div>\n",
       "<style scoped>\n",
       "    .dataframe tbody tr th:only-of-type {\n",
       "        vertical-align: middle;\n",
       "    }\n",
       "\n",
       "    .dataframe tbody tr th {\n",
       "        vertical-align: top;\n",
       "    }\n",
       "\n",
       "    .dataframe thead th {\n",
       "        text-align: right;\n",
       "    }\n",
       "</style>\n",
       "<table border=\"1\" class=\"dataframe\">\n",
       "  <thead>\n",
       "    <tr style=\"text-align: right;\">\n",
       "      <th></th>\n",
       "      <th>mpg</th>\n",
       "      <th>cyl</th>\n",
       "      <th>disp</th>\n",
       "      <th>hp</th>\n",
       "      <th>wt</th>\n",
       "      <th>acc</th>\n",
       "      <th>yr</th>\n",
       "      <th>origin</th>\n",
       "    </tr>\n",
       "  </thead>\n",
       "  <tbody>\n",
       "    <tr>\n",
       "      <th>0</th>\n",
       "      <td>18.0</td>\n",
       "      <td>8</td>\n",
       "      <td>307.0</td>\n",
       "      <td>130</td>\n",
       "      <td>3504</td>\n",
       "      <td>12.0</td>\n",
       "      <td>70</td>\n",
       "      <td>1</td>\n",
       "    </tr>\n",
       "    <tr>\n",
       "      <th>1</th>\n",
       "      <td>15.0</td>\n",
       "      <td>8</td>\n",
       "      <td>350.0</td>\n",
       "      <td>165</td>\n",
       "      <td>3693</td>\n",
       "      <td>11.5</td>\n",
       "      <td>70</td>\n",
       "      <td>1</td>\n",
       "    </tr>\n",
       "    <tr>\n",
       "      <th>2</th>\n",
       "      <td>18.0</td>\n",
       "      <td>8</td>\n",
       "      <td>318.0</td>\n",
       "      <td>150</td>\n",
       "      <td>3436</td>\n",
       "      <td>11.0</td>\n",
       "      <td>70</td>\n",
       "      <td>1</td>\n",
       "    </tr>\n",
       "    <tr>\n",
       "      <th>3</th>\n",
       "      <td>16.0</td>\n",
       "      <td>8</td>\n",
       "      <td>304.0</td>\n",
       "      <td>150</td>\n",
       "      <td>3433</td>\n",
       "      <td>12.0</td>\n",
       "      <td>70</td>\n",
       "      <td>1</td>\n",
       "    </tr>\n",
       "    <tr>\n",
       "      <th>4</th>\n",
       "      <td>17.0</td>\n",
       "      <td>8</td>\n",
       "      <td>302.0</td>\n",
       "      <td>140</td>\n",
       "      <td>3449</td>\n",
       "      <td>10.5</td>\n",
       "      <td>70</td>\n",
       "      <td>1</td>\n",
       "    </tr>\n",
       "  </tbody>\n",
       "</table>\n",
       "</div>"
      ],
      "text/plain": [
       "    mpg  cyl   disp   hp    wt   acc  yr  origin\n",
       "0  18.0    8  307.0  130  3504  12.0  70       1\n",
       "1  15.0    8  350.0  165  3693  11.5  70       1\n",
       "2  18.0    8  318.0  150  3436  11.0  70       1\n",
       "3  16.0    8  304.0  150  3433  12.0  70       1\n",
       "4  17.0    8  302.0  140  3449  10.5  70       1"
      ]
     },
     "execution_count": 5,
     "metadata": {},
     "output_type": "execute_result"
    }
   ],
   "source": [
    "input_df.head()"
   ]
  },
  {
   "cell_type": "code",
   "execution_count": 6,
   "metadata": {},
   "outputs": [],
   "source": [
    "input_df.drop(input_df[input_df['hp'] == '?'].index, axis=0, inplace=True)"
   ]
  },
  {
   "cell_type": "code",
   "execution_count": 7,
   "metadata": {},
   "outputs": [
    {
     "name": "stdout",
     "output_type": "stream",
     "text": [
      "The shape of the input data: (392, 8)\n"
     ]
    }
   ],
   "source": [
    "print('The shape of the input data:',input_df.shape)"
   ]
  },
  {
   "cell_type": "code",
   "execution_count": 8,
   "metadata": {},
   "outputs": [],
   "source": [
    "#lets apply zscore to compress the data between zero and one\n",
    "minmaxscaler = MinMaxScaler()\n",
    "\n",
    "for i in input_df:\n",
    "    input_df[i] = minmaxscaler.fit_transform(np.array(input_df[i]).reshape(-1,1))"
   ]
  },
  {
   "cell_type": "code",
   "execution_count": 9,
   "metadata": {},
   "outputs": [
    {
     "data": {
      "text/html": [
       "<div>\n",
       "<style scoped>\n",
       "    .dataframe tbody tr th:only-of-type {\n",
       "        vertical-align: middle;\n",
       "    }\n",
       "\n",
       "    .dataframe tbody tr th {\n",
       "        vertical-align: top;\n",
       "    }\n",
       "\n",
       "    .dataframe thead th {\n",
       "        text-align: right;\n",
       "    }\n",
       "</style>\n",
       "<table border=\"1\" class=\"dataframe\">\n",
       "  <thead>\n",
       "    <tr style=\"text-align: right;\">\n",
       "      <th></th>\n",
       "      <th>mpg</th>\n",
       "      <th>cyl</th>\n",
       "      <th>disp</th>\n",
       "      <th>hp</th>\n",
       "      <th>wt</th>\n",
       "      <th>acc</th>\n",
       "      <th>yr</th>\n",
       "      <th>origin</th>\n",
       "    </tr>\n",
       "  </thead>\n",
       "  <tbody>\n",
       "    <tr>\n",
       "      <th>0</th>\n",
       "      <td>0.239362</td>\n",
       "      <td>1.0</td>\n",
       "      <td>0.617571</td>\n",
       "      <td>0.456522</td>\n",
       "      <td>0.536150</td>\n",
       "      <td>0.238095</td>\n",
       "      <td>0.0</td>\n",
       "      <td>0.0</td>\n",
       "    </tr>\n",
       "    <tr>\n",
       "      <th>1</th>\n",
       "      <td>0.159574</td>\n",
       "      <td>1.0</td>\n",
       "      <td>0.728682</td>\n",
       "      <td>0.646739</td>\n",
       "      <td>0.589736</td>\n",
       "      <td>0.208333</td>\n",
       "      <td>0.0</td>\n",
       "      <td>0.0</td>\n",
       "    </tr>\n",
       "    <tr>\n",
       "      <th>2</th>\n",
       "      <td>0.239362</td>\n",
       "      <td>1.0</td>\n",
       "      <td>0.645995</td>\n",
       "      <td>0.565217</td>\n",
       "      <td>0.516870</td>\n",
       "      <td>0.178571</td>\n",
       "      <td>0.0</td>\n",
       "      <td>0.0</td>\n",
       "    </tr>\n",
       "    <tr>\n",
       "      <th>3</th>\n",
       "      <td>0.186170</td>\n",
       "      <td>1.0</td>\n",
       "      <td>0.609819</td>\n",
       "      <td>0.565217</td>\n",
       "      <td>0.516019</td>\n",
       "      <td>0.238095</td>\n",
       "      <td>0.0</td>\n",
       "      <td>0.0</td>\n",
       "    </tr>\n",
       "    <tr>\n",
       "      <th>4</th>\n",
       "      <td>0.212766</td>\n",
       "      <td>1.0</td>\n",
       "      <td>0.604651</td>\n",
       "      <td>0.510870</td>\n",
       "      <td>0.520556</td>\n",
       "      <td>0.148810</td>\n",
       "      <td>0.0</td>\n",
       "      <td>0.0</td>\n",
       "    </tr>\n",
       "  </tbody>\n",
       "</table>\n",
       "</div>"
      ],
      "text/plain": [
       "        mpg  cyl      disp        hp        wt       acc   yr  origin\n",
       "0  0.239362  1.0  0.617571  0.456522  0.536150  0.238095  0.0     0.0\n",
       "1  0.159574  1.0  0.728682  0.646739  0.589736  0.208333  0.0     0.0\n",
       "2  0.239362  1.0  0.645995  0.565217  0.516870  0.178571  0.0     0.0\n",
       "3  0.186170  1.0  0.609819  0.565217  0.516019  0.238095  0.0     0.0\n",
       "4  0.212766  1.0  0.604651  0.510870  0.520556  0.148810  0.0     0.0"
      ]
     },
     "execution_count": 9,
     "metadata": {},
     "output_type": "execute_result"
    }
   ],
   "source": [
    "input_df.head()"
   ]
  },
  {
   "cell_type": "code",
   "execution_count": 10,
   "metadata": {},
   "outputs": [
    {
     "data": {
      "text/plain": [
       "LOF(algorithm='auto', contamination=0.1, leaf_size=30, metric='minkowski',\n",
       "  metric_params=None, n_jobs=1, n_neighbors=20, p=2)"
      ]
     },
     "execution_count": 10,
     "metadata": {},
     "output_type": "execute_result"
    }
   ],
   "source": [
    "lof = LOF()\n",
    "\n",
    "lof.fit(input_df)"
   ]
  },
  {
   "cell_type": "code",
   "execution_count": 11,
   "metadata": {},
   "outputs": [
    {
     "data": {
      "text/plain": [
       "array([1.20590199, 1.10882749, 1.21273742, 1.16145826, 1.23931199,\n",
       "       1.12018135, 1.21147674, 1.19303774, 1.19485838, 1.19958153])"
      ]
     },
     "execution_count": 11,
     "metadata": {},
     "output_type": "execute_result"
    }
   ],
   "source": [
    "lof.decision_function(input_df)[:10]"
   ]
  },
  {
   "cell_type": "code",
   "execution_count": 12,
   "metadata": {},
   "outputs": [],
   "source": [
    "predict_lof = lof.predict(input_df)"
   ]
  },
  {
   "cell_type": "code",
   "execution_count": 13,
   "metadata": {},
   "outputs": [
    {
     "data": {
      "text/plain": [
       "37"
      ]
     },
     "execution_count": 13,
     "metadata": {},
     "output_type": "execute_result"
    }
   ],
   "source": [
    "#let's count the total number of outlier\n",
    "np.sum(predict_lof)"
   ]
  },
  {
   "cell_type": "code",
   "execution_count": 14,
   "metadata": {},
   "outputs": [
    {
     "data": {
      "text/plain": [
       "COF(contamination=0.1, n_neighbors=None)"
      ]
     },
     "execution_count": 14,
     "metadata": {},
     "output_type": "execute_result"
    }
   ],
   "source": [
    "cof = COF(n_neighbors=20)\n",
    "\n",
    "cof.fit(input_df)"
   ]
  },
  {
   "cell_type": "code",
   "execution_count": 15,
   "metadata": {},
   "outputs": [],
   "source": [
    "predict_cof = cof.predict(input_df)"
   ]
  },
  {
   "cell_type": "code",
   "execution_count": 16,
   "metadata": {},
   "outputs": [
    {
     "data": {
      "text/plain": [
       "40"
      ]
     },
     "execution_count": 16,
     "metadata": {},
     "output_type": "execute_result"
    }
   ],
   "source": [
    "np.sum(predict_cof)"
   ]
  },
  {
   "cell_type": "code",
   "execution_count": 17,
   "metadata": {},
   "outputs": [
    {
     "data": {
      "text/html": [
       "<style  type=\"text/css\" >\n",
       "</style><table id=\"T_829bd718_5ffe_11eb_a04f_c0e434bc564b\" ><thead>    <tr>        <th class=\"blank level0\" ></th>        <th class=\"col_heading level0 col0\" >Description</th>        <th class=\"col_heading level0 col1\" >Value</th>    </tr></thead><tbody>\n",
       "                <tr>\n",
       "                        <th id=\"T_829bd718_5ffe_11eb_a04f_c0e434bc564blevel0_row0\" class=\"row_heading level0 row0\" >0</th>\n",
       "                        <td id=\"T_829bd718_5ffe_11eb_a04f_c0e434bc564brow0_col0\" class=\"data row0 col0\" >session_id</td>\n",
       "                        <td id=\"T_829bd718_5ffe_11eb_a04f_c0e434bc564brow0_col1\" class=\"data row0 col1\" >6558</td>\n",
       "            </tr>\n",
       "            <tr>\n",
       "                        <th id=\"T_829bd718_5ffe_11eb_a04f_c0e434bc564blevel0_row1\" class=\"row_heading level0 row1\" >1</th>\n",
       "                        <td id=\"T_829bd718_5ffe_11eb_a04f_c0e434bc564brow1_col0\" class=\"data row1 col0\" >Original Data</td>\n",
       "                        <td id=\"T_829bd718_5ffe_11eb_a04f_c0e434bc564brow1_col1\" class=\"data row1 col1\" >(392, 8)</td>\n",
       "            </tr>\n",
       "            <tr>\n",
       "                        <th id=\"T_829bd718_5ffe_11eb_a04f_c0e434bc564blevel0_row2\" class=\"row_heading level0 row2\" >2</th>\n",
       "                        <td id=\"T_829bd718_5ffe_11eb_a04f_c0e434bc564brow2_col0\" class=\"data row2 col0\" >Missing Values</td>\n",
       "                        <td id=\"T_829bd718_5ffe_11eb_a04f_c0e434bc564brow2_col1\" class=\"data row2 col1\" >False</td>\n",
       "            </tr>\n",
       "            <tr>\n",
       "                        <th id=\"T_829bd718_5ffe_11eb_a04f_c0e434bc564blevel0_row3\" class=\"row_heading level0 row3\" >3</th>\n",
       "                        <td id=\"T_829bd718_5ffe_11eb_a04f_c0e434bc564brow3_col0\" class=\"data row3 col0\" >Numeric Features</td>\n",
       "                        <td id=\"T_829bd718_5ffe_11eb_a04f_c0e434bc564brow3_col1\" class=\"data row3 col1\" >8</td>\n",
       "            </tr>\n",
       "            <tr>\n",
       "                        <th id=\"T_829bd718_5ffe_11eb_a04f_c0e434bc564blevel0_row4\" class=\"row_heading level0 row4\" >4</th>\n",
       "                        <td id=\"T_829bd718_5ffe_11eb_a04f_c0e434bc564brow4_col0\" class=\"data row4 col0\" >Categorical Features</td>\n",
       "                        <td id=\"T_829bd718_5ffe_11eb_a04f_c0e434bc564brow4_col1\" class=\"data row4 col1\" >0</td>\n",
       "            </tr>\n",
       "            <tr>\n",
       "                        <th id=\"T_829bd718_5ffe_11eb_a04f_c0e434bc564blevel0_row5\" class=\"row_heading level0 row5\" >5</th>\n",
       "                        <td id=\"T_829bd718_5ffe_11eb_a04f_c0e434bc564brow5_col0\" class=\"data row5 col0\" >Ordinal Features</td>\n",
       "                        <td id=\"T_829bd718_5ffe_11eb_a04f_c0e434bc564brow5_col1\" class=\"data row5 col1\" >False</td>\n",
       "            </tr>\n",
       "            <tr>\n",
       "                        <th id=\"T_829bd718_5ffe_11eb_a04f_c0e434bc564blevel0_row6\" class=\"row_heading level0 row6\" >6</th>\n",
       "                        <td id=\"T_829bd718_5ffe_11eb_a04f_c0e434bc564brow6_col0\" class=\"data row6 col0\" >High Cardinality Features</td>\n",
       "                        <td id=\"T_829bd718_5ffe_11eb_a04f_c0e434bc564brow6_col1\" class=\"data row6 col1\" >False</td>\n",
       "            </tr>\n",
       "            <tr>\n",
       "                        <th id=\"T_829bd718_5ffe_11eb_a04f_c0e434bc564blevel0_row7\" class=\"row_heading level0 row7\" >7</th>\n",
       "                        <td id=\"T_829bd718_5ffe_11eb_a04f_c0e434bc564brow7_col0\" class=\"data row7 col0\" >High Cardinality Method</td>\n",
       "                        <td id=\"T_829bd718_5ffe_11eb_a04f_c0e434bc564brow7_col1\" class=\"data row7 col1\" >None</td>\n",
       "            </tr>\n",
       "            <tr>\n",
       "                        <th id=\"T_829bd718_5ffe_11eb_a04f_c0e434bc564blevel0_row8\" class=\"row_heading level0 row8\" >8</th>\n",
       "                        <td id=\"T_829bd718_5ffe_11eb_a04f_c0e434bc564brow8_col0\" class=\"data row8 col0\" >Transformed Data</td>\n",
       "                        <td id=\"T_829bd718_5ffe_11eb_a04f_c0e434bc564brow8_col1\" class=\"data row8 col1\" >(392, 8)</td>\n",
       "            </tr>\n",
       "            <tr>\n",
       "                        <th id=\"T_829bd718_5ffe_11eb_a04f_c0e434bc564blevel0_row9\" class=\"row_heading level0 row9\" >9</th>\n",
       "                        <td id=\"T_829bd718_5ffe_11eb_a04f_c0e434bc564brow9_col0\" class=\"data row9 col0\" >CPU Jobs</td>\n",
       "                        <td id=\"T_829bd718_5ffe_11eb_a04f_c0e434bc564brow9_col1\" class=\"data row9 col1\" >-1</td>\n",
       "            </tr>\n",
       "            <tr>\n",
       "                        <th id=\"T_829bd718_5ffe_11eb_a04f_c0e434bc564blevel0_row10\" class=\"row_heading level0 row10\" >10</th>\n",
       "                        <td id=\"T_829bd718_5ffe_11eb_a04f_c0e434bc564brow10_col0\" class=\"data row10 col0\" >Use GPU</td>\n",
       "                        <td id=\"T_829bd718_5ffe_11eb_a04f_c0e434bc564brow10_col1\" class=\"data row10 col1\" >False</td>\n",
       "            </tr>\n",
       "            <tr>\n",
       "                        <th id=\"T_829bd718_5ffe_11eb_a04f_c0e434bc564blevel0_row11\" class=\"row_heading level0 row11\" >11</th>\n",
       "                        <td id=\"T_829bd718_5ffe_11eb_a04f_c0e434bc564brow11_col0\" class=\"data row11 col0\" >Log Experiment</td>\n",
       "                        <td id=\"T_829bd718_5ffe_11eb_a04f_c0e434bc564brow11_col1\" class=\"data row11 col1\" >False</td>\n",
       "            </tr>\n",
       "            <tr>\n",
       "                        <th id=\"T_829bd718_5ffe_11eb_a04f_c0e434bc564blevel0_row12\" class=\"row_heading level0 row12\" >12</th>\n",
       "                        <td id=\"T_829bd718_5ffe_11eb_a04f_c0e434bc564brow12_col0\" class=\"data row12 col0\" >Experiment Name</td>\n",
       "                        <td id=\"T_829bd718_5ffe_11eb_a04f_c0e434bc564brow12_col1\" class=\"data row12 col1\" >anomaly-default-name</td>\n",
       "            </tr>\n",
       "            <tr>\n",
       "                        <th id=\"T_829bd718_5ffe_11eb_a04f_c0e434bc564blevel0_row13\" class=\"row_heading level0 row13\" >13</th>\n",
       "                        <td id=\"T_829bd718_5ffe_11eb_a04f_c0e434bc564brow13_col0\" class=\"data row13 col0\" >USI</td>\n",
       "                        <td id=\"T_829bd718_5ffe_11eb_a04f_c0e434bc564brow13_col1\" class=\"data row13 col1\" >fb6e</td>\n",
       "            </tr>\n",
       "            <tr>\n",
       "                        <th id=\"T_829bd718_5ffe_11eb_a04f_c0e434bc564blevel0_row14\" class=\"row_heading level0 row14\" >14</th>\n",
       "                        <td id=\"T_829bd718_5ffe_11eb_a04f_c0e434bc564brow14_col0\" class=\"data row14 col0\" >Imputation Type</td>\n",
       "                        <td id=\"T_829bd718_5ffe_11eb_a04f_c0e434bc564brow14_col1\" class=\"data row14 col1\" >simple</td>\n",
       "            </tr>\n",
       "            <tr>\n",
       "                        <th id=\"T_829bd718_5ffe_11eb_a04f_c0e434bc564blevel0_row15\" class=\"row_heading level0 row15\" >15</th>\n",
       "                        <td id=\"T_829bd718_5ffe_11eb_a04f_c0e434bc564brow15_col0\" class=\"data row15 col0\" >Iterative Imputation Iteration</td>\n",
       "                        <td id=\"T_829bd718_5ffe_11eb_a04f_c0e434bc564brow15_col1\" class=\"data row15 col1\" >None</td>\n",
       "            </tr>\n",
       "            <tr>\n",
       "                        <th id=\"T_829bd718_5ffe_11eb_a04f_c0e434bc564blevel0_row16\" class=\"row_heading level0 row16\" >16</th>\n",
       "                        <td id=\"T_829bd718_5ffe_11eb_a04f_c0e434bc564brow16_col0\" class=\"data row16 col0\" >Numeric Imputer</td>\n",
       "                        <td id=\"T_829bd718_5ffe_11eb_a04f_c0e434bc564brow16_col1\" class=\"data row16 col1\" >mean</td>\n",
       "            </tr>\n",
       "            <tr>\n",
       "                        <th id=\"T_829bd718_5ffe_11eb_a04f_c0e434bc564blevel0_row17\" class=\"row_heading level0 row17\" >17</th>\n",
       "                        <td id=\"T_829bd718_5ffe_11eb_a04f_c0e434bc564brow17_col0\" class=\"data row17 col0\" >Iterative Imputation Numeric Model</td>\n",
       "                        <td id=\"T_829bd718_5ffe_11eb_a04f_c0e434bc564brow17_col1\" class=\"data row17 col1\" >None</td>\n",
       "            </tr>\n",
       "            <tr>\n",
       "                        <th id=\"T_829bd718_5ffe_11eb_a04f_c0e434bc564blevel0_row18\" class=\"row_heading level0 row18\" >18</th>\n",
       "                        <td id=\"T_829bd718_5ffe_11eb_a04f_c0e434bc564brow18_col0\" class=\"data row18 col0\" >Categorical Imputer</td>\n",
       "                        <td id=\"T_829bd718_5ffe_11eb_a04f_c0e434bc564brow18_col1\" class=\"data row18 col1\" >mode</td>\n",
       "            </tr>\n",
       "            <tr>\n",
       "                        <th id=\"T_829bd718_5ffe_11eb_a04f_c0e434bc564blevel0_row19\" class=\"row_heading level0 row19\" >19</th>\n",
       "                        <td id=\"T_829bd718_5ffe_11eb_a04f_c0e434bc564brow19_col0\" class=\"data row19 col0\" >Iterative Imputation Categorical Model</td>\n",
       "                        <td id=\"T_829bd718_5ffe_11eb_a04f_c0e434bc564brow19_col1\" class=\"data row19 col1\" >None</td>\n",
       "            </tr>\n",
       "            <tr>\n",
       "                        <th id=\"T_829bd718_5ffe_11eb_a04f_c0e434bc564blevel0_row20\" class=\"row_heading level0 row20\" >20</th>\n",
       "                        <td id=\"T_829bd718_5ffe_11eb_a04f_c0e434bc564brow20_col0\" class=\"data row20 col0\" >Unknown Categoricals Handling</td>\n",
       "                        <td id=\"T_829bd718_5ffe_11eb_a04f_c0e434bc564brow20_col1\" class=\"data row20 col1\" >least_frequent</td>\n",
       "            </tr>\n",
       "            <tr>\n",
       "                        <th id=\"T_829bd718_5ffe_11eb_a04f_c0e434bc564blevel0_row21\" class=\"row_heading level0 row21\" >21</th>\n",
       "                        <td id=\"T_829bd718_5ffe_11eb_a04f_c0e434bc564brow21_col0\" class=\"data row21 col0\" >Normalize</td>\n",
       "                        <td id=\"T_829bd718_5ffe_11eb_a04f_c0e434bc564brow21_col1\" class=\"data row21 col1\" >False</td>\n",
       "            </tr>\n",
       "            <tr>\n",
       "                        <th id=\"T_829bd718_5ffe_11eb_a04f_c0e434bc564blevel0_row22\" class=\"row_heading level0 row22\" >22</th>\n",
       "                        <td id=\"T_829bd718_5ffe_11eb_a04f_c0e434bc564brow22_col0\" class=\"data row22 col0\" >Normalize Method</td>\n",
       "                        <td id=\"T_829bd718_5ffe_11eb_a04f_c0e434bc564brow22_col1\" class=\"data row22 col1\" >None</td>\n",
       "            </tr>\n",
       "            <tr>\n",
       "                        <th id=\"T_829bd718_5ffe_11eb_a04f_c0e434bc564blevel0_row23\" class=\"row_heading level0 row23\" >23</th>\n",
       "                        <td id=\"T_829bd718_5ffe_11eb_a04f_c0e434bc564brow23_col0\" class=\"data row23 col0\" >Transformation</td>\n",
       "                        <td id=\"T_829bd718_5ffe_11eb_a04f_c0e434bc564brow23_col1\" class=\"data row23 col1\" >False</td>\n",
       "            </tr>\n",
       "            <tr>\n",
       "                        <th id=\"T_829bd718_5ffe_11eb_a04f_c0e434bc564blevel0_row24\" class=\"row_heading level0 row24\" >24</th>\n",
       "                        <td id=\"T_829bd718_5ffe_11eb_a04f_c0e434bc564brow24_col0\" class=\"data row24 col0\" >Transformation Method</td>\n",
       "                        <td id=\"T_829bd718_5ffe_11eb_a04f_c0e434bc564brow24_col1\" class=\"data row24 col1\" >None</td>\n",
       "            </tr>\n",
       "            <tr>\n",
       "                        <th id=\"T_829bd718_5ffe_11eb_a04f_c0e434bc564blevel0_row25\" class=\"row_heading level0 row25\" >25</th>\n",
       "                        <td id=\"T_829bd718_5ffe_11eb_a04f_c0e434bc564brow25_col0\" class=\"data row25 col0\" >PCA</td>\n",
       "                        <td id=\"T_829bd718_5ffe_11eb_a04f_c0e434bc564brow25_col1\" class=\"data row25 col1\" >False</td>\n",
       "            </tr>\n",
       "            <tr>\n",
       "                        <th id=\"T_829bd718_5ffe_11eb_a04f_c0e434bc564blevel0_row26\" class=\"row_heading level0 row26\" >26</th>\n",
       "                        <td id=\"T_829bd718_5ffe_11eb_a04f_c0e434bc564brow26_col0\" class=\"data row26 col0\" >PCA Method</td>\n",
       "                        <td id=\"T_829bd718_5ffe_11eb_a04f_c0e434bc564brow26_col1\" class=\"data row26 col1\" >None</td>\n",
       "            </tr>\n",
       "            <tr>\n",
       "                        <th id=\"T_829bd718_5ffe_11eb_a04f_c0e434bc564blevel0_row27\" class=\"row_heading level0 row27\" >27</th>\n",
       "                        <td id=\"T_829bd718_5ffe_11eb_a04f_c0e434bc564brow27_col0\" class=\"data row27 col0\" >PCA Components</td>\n",
       "                        <td id=\"T_829bd718_5ffe_11eb_a04f_c0e434bc564brow27_col1\" class=\"data row27 col1\" >None</td>\n",
       "            </tr>\n",
       "            <tr>\n",
       "                        <th id=\"T_829bd718_5ffe_11eb_a04f_c0e434bc564blevel0_row28\" class=\"row_heading level0 row28\" >28</th>\n",
       "                        <td id=\"T_829bd718_5ffe_11eb_a04f_c0e434bc564brow28_col0\" class=\"data row28 col0\" >Ignore Low Variance</td>\n",
       "                        <td id=\"T_829bd718_5ffe_11eb_a04f_c0e434bc564brow28_col1\" class=\"data row28 col1\" >False</td>\n",
       "            </tr>\n",
       "            <tr>\n",
       "                        <th id=\"T_829bd718_5ffe_11eb_a04f_c0e434bc564blevel0_row29\" class=\"row_heading level0 row29\" >29</th>\n",
       "                        <td id=\"T_829bd718_5ffe_11eb_a04f_c0e434bc564brow29_col0\" class=\"data row29 col0\" >Combine Rare Levels</td>\n",
       "                        <td id=\"T_829bd718_5ffe_11eb_a04f_c0e434bc564brow29_col1\" class=\"data row29 col1\" >False</td>\n",
       "            </tr>\n",
       "            <tr>\n",
       "                        <th id=\"T_829bd718_5ffe_11eb_a04f_c0e434bc564blevel0_row30\" class=\"row_heading level0 row30\" >30</th>\n",
       "                        <td id=\"T_829bd718_5ffe_11eb_a04f_c0e434bc564brow30_col0\" class=\"data row30 col0\" >Rare Level Threshold</td>\n",
       "                        <td id=\"T_829bd718_5ffe_11eb_a04f_c0e434bc564brow30_col1\" class=\"data row30 col1\" >None</td>\n",
       "            </tr>\n",
       "            <tr>\n",
       "                        <th id=\"T_829bd718_5ffe_11eb_a04f_c0e434bc564blevel0_row31\" class=\"row_heading level0 row31\" >31</th>\n",
       "                        <td id=\"T_829bd718_5ffe_11eb_a04f_c0e434bc564brow31_col0\" class=\"data row31 col0\" >Numeric Binning</td>\n",
       "                        <td id=\"T_829bd718_5ffe_11eb_a04f_c0e434bc564brow31_col1\" class=\"data row31 col1\" >False</td>\n",
       "            </tr>\n",
       "            <tr>\n",
       "                        <th id=\"T_829bd718_5ffe_11eb_a04f_c0e434bc564blevel0_row32\" class=\"row_heading level0 row32\" >32</th>\n",
       "                        <td id=\"T_829bd718_5ffe_11eb_a04f_c0e434bc564brow32_col0\" class=\"data row32 col0\" >Remove Outliers</td>\n",
       "                        <td id=\"T_829bd718_5ffe_11eb_a04f_c0e434bc564brow32_col1\" class=\"data row32 col1\" >False</td>\n",
       "            </tr>\n",
       "            <tr>\n",
       "                        <th id=\"T_829bd718_5ffe_11eb_a04f_c0e434bc564blevel0_row33\" class=\"row_heading level0 row33\" >33</th>\n",
       "                        <td id=\"T_829bd718_5ffe_11eb_a04f_c0e434bc564brow33_col0\" class=\"data row33 col0\" >Outliers Threshold</td>\n",
       "                        <td id=\"T_829bd718_5ffe_11eb_a04f_c0e434bc564brow33_col1\" class=\"data row33 col1\" >None</td>\n",
       "            </tr>\n",
       "            <tr>\n",
       "                        <th id=\"T_829bd718_5ffe_11eb_a04f_c0e434bc564blevel0_row34\" class=\"row_heading level0 row34\" >34</th>\n",
       "                        <td id=\"T_829bd718_5ffe_11eb_a04f_c0e434bc564brow34_col0\" class=\"data row34 col0\" >Remove Multicollinearity</td>\n",
       "                        <td id=\"T_829bd718_5ffe_11eb_a04f_c0e434bc564brow34_col1\" class=\"data row34 col1\" >False</td>\n",
       "            </tr>\n",
       "            <tr>\n",
       "                        <th id=\"T_829bd718_5ffe_11eb_a04f_c0e434bc564blevel0_row35\" class=\"row_heading level0 row35\" >35</th>\n",
       "                        <td id=\"T_829bd718_5ffe_11eb_a04f_c0e434bc564brow35_col0\" class=\"data row35 col0\" >Multicollinearity Threshold</td>\n",
       "                        <td id=\"T_829bd718_5ffe_11eb_a04f_c0e434bc564brow35_col1\" class=\"data row35 col1\" >None</td>\n",
       "            </tr>\n",
       "            <tr>\n",
       "                        <th id=\"T_829bd718_5ffe_11eb_a04f_c0e434bc564blevel0_row36\" class=\"row_heading level0 row36\" >36</th>\n",
       "                        <td id=\"T_829bd718_5ffe_11eb_a04f_c0e434bc564brow36_col0\" class=\"data row36 col0\" >Clustering</td>\n",
       "                        <td id=\"T_829bd718_5ffe_11eb_a04f_c0e434bc564brow36_col1\" class=\"data row36 col1\" >False</td>\n",
       "            </tr>\n",
       "            <tr>\n",
       "                        <th id=\"T_829bd718_5ffe_11eb_a04f_c0e434bc564blevel0_row37\" class=\"row_heading level0 row37\" >37</th>\n",
       "                        <td id=\"T_829bd718_5ffe_11eb_a04f_c0e434bc564brow37_col0\" class=\"data row37 col0\" >Clustering Iteration</td>\n",
       "                        <td id=\"T_829bd718_5ffe_11eb_a04f_c0e434bc564brow37_col1\" class=\"data row37 col1\" >None</td>\n",
       "            </tr>\n",
       "            <tr>\n",
       "                        <th id=\"T_829bd718_5ffe_11eb_a04f_c0e434bc564blevel0_row38\" class=\"row_heading level0 row38\" >38</th>\n",
       "                        <td id=\"T_829bd718_5ffe_11eb_a04f_c0e434bc564brow38_col0\" class=\"data row38 col0\" >Polynomial Features</td>\n",
       "                        <td id=\"T_829bd718_5ffe_11eb_a04f_c0e434bc564brow38_col1\" class=\"data row38 col1\" >False</td>\n",
       "            </tr>\n",
       "            <tr>\n",
       "                        <th id=\"T_829bd718_5ffe_11eb_a04f_c0e434bc564blevel0_row39\" class=\"row_heading level0 row39\" >39</th>\n",
       "                        <td id=\"T_829bd718_5ffe_11eb_a04f_c0e434bc564brow39_col0\" class=\"data row39 col0\" >Polynomial Degree</td>\n",
       "                        <td id=\"T_829bd718_5ffe_11eb_a04f_c0e434bc564brow39_col1\" class=\"data row39 col1\" >None</td>\n",
       "            </tr>\n",
       "            <tr>\n",
       "                        <th id=\"T_829bd718_5ffe_11eb_a04f_c0e434bc564blevel0_row40\" class=\"row_heading level0 row40\" >40</th>\n",
       "                        <td id=\"T_829bd718_5ffe_11eb_a04f_c0e434bc564brow40_col0\" class=\"data row40 col0\" >Trignometry Features</td>\n",
       "                        <td id=\"T_829bd718_5ffe_11eb_a04f_c0e434bc564brow40_col1\" class=\"data row40 col1\" >False</td>\n",
       "            </tr>\n",
       "            <tr>\n",
       "                        <th id=\"T_829bd718_5ffe_11eb_a04f_c0e434bc564blevel0_row41\" class=\"row_heading level0 row41\" >41</th>\n",
       "                        <td id=\"T_829bd718_5ffe_11eb_a04f_c0e434bc564brow41_col0\" class=\"data row41 col0\" >Polynomial Threshold</td>\n",
       "                        <td id=\"T_829bd718_5ffe_11eb_a04f_c0e434bc564brow41_col1\" class=\"data row41 col1\" >None</td>\n",
       "            </tr>\n",
       "            <tr>\n",
       "                        <th id=\"T_829bd718_5ffe_11eb_a04f_c0e434bc564blevel0_row42\" class=\"row_heading level0 row42\" >42</th>\n",
       "                        <td id=\"T_829bd718_5ffe_11eb_a04f_c0e434bc564brow42_col0\" class=\"data row42 col0\" >Group Features</td>\n",
       "                        <td id=\"T_829bd718_5ffe_11eb_a04f_c0e434bc564brow42_col1\" class=\"data row42 col1\" >False</td>\n",
       "            </tr>\n",
       "            <tr>\n",
       "                        <th id=\"T_829bd718_5ffe_11eb_a04f_c0e434bc564blevel0_row43\" class=\"row_heading level0 row43\" >43</th>\n",
       "                        <td id=\"T_829bd718_5ffe_11eb_a04f_c0e434bc564brow43_col0\" class=\"data row43 col0\" >Feature Selection</td>\n",
       "                        <td id=\"T_829bd718_5ffe_11eb_a04f_c0e434bc564brow43_col1\" class=\"data row43 col1\" >False</td>\n",
       "            </tr>\n",
       "            <tr>\n",
       "                        <th id=\"T_829bd718_5ffe_11eb_a04f_c0e434bc564blevel0_row44\" class=\"row_heading level0 row44\" >44</th>\n",
       "                        <td id=\"T_829bd718_5ffe_11eb_a04f_c0e434bc564brow44_col0\" class=\"data row44 col0\" >Features Selection Threshold</td>\n",
       "                        <td id=\"T_829bd718_5ffe_11eb_a04f_c0e434bc564brow44_col1\" class=\"data row44 col1\" >None</td>\n",
       "            </tr>\n",
       "            <tr>\n",
       "                        <th id=\"T_829bd718_5ffe_11eb_a04f_c0e434bc564blevel0_row45\" class=\"row_heading level0 row45\" >45</th>\n",
       "                        <td id=\"T_829bd718_5ffe_11eb_a04f_c0e434bc564brow45_col0\" class=\"data row45 col0\" >Feature Interaction</td>\n",
       "                        <td id=\"T_829bd718_5ffe_11eb_a04f_c0e434bc564brow45_col1\" class=\"data row45 col1\" >False</td>\n",
       "            </tr>\n",
       "            <tr>\n",
       "                        <th id=\"T_829bd718_5ffe_11eb_a04f_c0e434bc564blevel0_row46\" class=\"row_heading level0 row46\" >46</th>\n",
       "                        <td id=\"T_829bd718_5ffe_11eb_a04f_c0e434bc564brow46_col0\" class=\"data row46 col0\" >Feature Ratio</td>\n",
       "                        <td id=\"T_829bd718_5ffe_11eb_a04f_c0e434bc564brow46_col1\" class=\"data row46 col1\" >False</td>\n",
       "            </tr>\n",
       "            <tr>\n",
       "                        <th id=\"T_829bd718_5ffe_11eb_a04f_c0e434bc564blevel0_row47\" class=\"row_heading level0 row47\" >47</th>\n",
       "                        <td id=\"T_829bd718_5ffe_11eb_a04f_c0e434bc564brow47_col0\" class=\"data row47 col0\" >Interaction Threshold</td>\n",
       "                        <td id=\"T_829bd718_5ffe_11eb_a04f_c0e434bc564brow47_col1\" class=\"data row47 col1\" >None</td>\n",
       "            </tr>\n",
       "    </tbody></table>"
      ],
      "text/plain": [
       "<pandas.io.formats.style.Styler at 0x1132d4c76c8>"
      ]
     },
     "metadata": {},
     "output_type": "display_data"
    }
   ],
   "source": [
    "outliers = setup(input_df)"
   ]
  },
  {
   "cell_type": "code",
   "execution_count": 18,
   "metadata": {},
   "outputs": [],
   "source": [
    "lof = create_model('lof')"
   ]
  },
  {
   "cell_type": "code",
   "execution_count": 19,
   "metadata": {},
   "outputs": [
    {
     "name": "stdout",
     "output_type": "stream",
     "text": [
      "LOF(algorithm='auto', contamination=0.05, leaf_size=30, metric='minkowski',\n",
      "  metric_params=None, n_jobs=-1, n_neighbors=20, p=2)\n"
     ]
    }
   ],
   "source": [
    "print(lof)"
   ]
  },
  {
   "cell_type": "code",
   "execution_count": 23,
   "metadata": {},
   "outputs": [],
   "source": [
    "output = assign_model(lof)"
   ]
  },
  {
   "cell_type": "code",
   "execution_count": 28,
   "metadata": {},
   "outputs": [
    {
     "data": {
      "text/plain": [
       "20"
      ]
     },
     "execution_count": 28,
     "metadata": {},
     "output_type": "execute_result"
    }
   ],
   "source": [
    "output[output['Anomaly'] == 1].count()[0]"
   ]
  },
  {
   "cell_type": "code",
   "execution_count": 29,
   "metadata": {},
   "outputs": [],
   "source": [
    "c = create_model('cof')"
   ]
  },
  {
   "cell_type": "code",
   "execution_count": 30,
   "metadata": {},
   "outputs": [
    {
     "name": "stdout",
     "output_type": "stream",
     "text": [
      "COF(contamination=0.1, n_neighbors=None)\n"
     ]
    }
   ],
   "source": [
    "print(cof)"
   ]
  },
  {
   "cell_type": "code",
   "execution_count": 32,
   "metadata": {},
   "outputs": [],
   "source": [
    "ouput = assign_model(cof)"
   ]
  },
  {
   "cell_type": "code",
   "execution_count": 33,
   "metadata": {},
   "outputs": [
    {
     "data": {
      "text/plain": [
       "20"
      ]
     },
     "execution_count": 33,
     "metadata": {},
     "output_type": "execute_result"
    }
   ],
   "source": [
    "output[output['Anomaly'] == 1].count()[0]"
   ]
  },
  {
   "cell_type": "code",
   "execution_count": 37,
   "metadata": {},
   "outputs": [],
   "source": [
    "model = DBSCAN(eps = 0.4, min_samples = 10).fit(input_df)"
   ]
  },
  {
   "cell_type": "code",
   "execution_count": 38,
   "metadata": {},
   "outputs": [
    {
     "data": {
      "text/plain": [
       "DBSCAN(algorithm='auto', eps=0.4, leaf_size=30, metric='euclidean',\n",
       "       metric_params=None, min_samples=10, n_jobs=None, p=None)"
      ]
     },
     "execution_count": 38,
     "metadata": {},
     "output_type": "execute_result"
    }
   ],
   "source": [
    "model"
   ]
  },
  {
   "cell_type": "code",
   "execution_count": 43,
   "metadata": {},
   "outputs": [],
   "source": [
    "labels = model.labels_"
   ]
  },
  {
   "cell_type": "code",
   "execution_count": 45,
   "metadata": {},
   "outputs": [
    {
     "data": {
      "text/plain": [
       "array([ 0,  0,  0,  0,  0,  0,  0,  0,  0,  0,  0,  0,  0,  0,  1,  2,  2,\n",
       "        2,  1,  3,  3,  3,  3,  3,  2,  0,  0,  0,  0,  1,  4,  1,  2,  2,\n",
       "        2,  2,  2,  0,  0,  0,  0,  0,  0,  0,  2,  4,  2,  2,  4,  3,  3,\n",
       "        3,  1,  1,  3,  4,  1,  4,  3,  4,  4,  0,  0,  0,  0,  0,  0,  0,\n",
       "        0,  0,  1,  0,  0,  0,  0,  3,  3,  3,  3,  4,  1,  1,  4,  1,  0,\n",
       "        0,  0,  0,  0,  0,  0,  0,  0,  0,  0,  0,  2,  2,  2,  2,  2,  3,\n",
       "        0,  0,  0,  0,  2,  1,  4,  1,  1,  4,  2,  3,  0,  0,  3,  3,  3,\n",
       "        3,  0,  3, -1,  0,  2,  2,  2,  1,  4,  1,  4,  2,  2,  2,  0,  0,\n",
       "        0,  0,  0,  3,  3,  3,  1,  1,  4,  3,  3,  1,  1,  3,  2,  2,  2,\n",
       "        2,  0,  0,  0,  0,  2,  2,  2,  2,  2,  0,  0,  1,  4,  2,  4,  1,\n",
       "        3,  1,  2,  3,  2,  3,  3,  3,  3,  1,  3,  3,  4,  4,  3,  0,  0,\n",
       "        0,  0,  2,  2,  2,  2,  4,  4,  3,  1,  2,  2,  2,  2,  3,  1,  1,\n",
       "        4,  3,  0,  3, -1, -1,  0,  0,  0,  0,  1,  4,  3,  4,  1,  0,  0,\n",
       "        0,  0,  2,  2,  2,  2,  0,  0,  0,  0,  3,  4,  1,  4,  4,  4,  1,\n",
       "        3, -1,  3,  1,  3,  4,  1,  1,  1,  0,  0,  0,  2,  2,  2,  4,  2,\n",
       "        2,  2,  2,  2,  2,  0,  2,  0,  0,  4,  1,  1,  4,  1,  4,  4,  1,\n",
       "        3,  3,  3,  3,  3,  1,  2,  2,  4,  2,  2,  0,  0,  0,  0,  0,  0,\n",
       "        0,  0,  3,  1,  4,  4, -1,  0, -1,  0,  4,  4,  1,  3,  4,  2,  2,\n",
       "        4,  3,  1,  4,  1,  4,  4,  4,  2,  3,  1,  1,  1,  1,  1,  4,  1,\n",
       "        3, -1,  3, -1,  1,  1,  3, -1,  1,  3,  1,  4,  4,  4,  2,  4,  1,\n",
       "        4,  1,  1,  1,  1,  1,  4,  4,  4,  3,  1,  1,  1,  1, -1, -1, -1,\n",
       "       -1,  2,  0,  2,  2,  4,  4,  4,  4,  4,  4,  4,  3,  1,  1,  4,  4,\n",
       "        1,  1,  1,  1,  1,  1,  2, -1,  4,  2,  1,  4,  4,  4, -1,  4,  4,\n",
       "        4], dtype=int64)"
      ]
     },
     "execution_count": 45,
     "metadata": {},
     "output_type": "execute_result"
    }
   ],
   "source": [
    "labels"
   ]
  },
  {
   "cell_type": "code",
   "execution_count": 44,
   "metadata": {},
   "outputs": [
    {
     "data": {
      "text/plain": [
       "array([-1, -1, -1, -1, -1, -1, -1, -1, -1, -1, -1, -1, -1, -1, -1],\n",
       "      dtype=int64)"
      ]
     },
     "execution_count": 44,
     "metadata": {},
     "output_type": "execute_result"
    }
   ],
   "source": [
    "labels[labels == -1]"
   ]
  },
  {
   "cell_type": "code",
   "execution_count": 54,
   "metadata": {},
   "outputs": [],
   "source": [
    "labels_df =  pd.DataFrame(labels, columns=['cluster'])"
   ]
  },
  {
   "cell_type": "code",
   "execution_count": 62,
   "metadata": {},
   "outputs": [
    {
     "data": {
      "text/plain": [
       " 0    103\n",
       " 1     73\n",
       " 2     72\n",
       " 4     69\n",
       " 3     60\n",
       "-1     15\n",
       "Name: cluster, dtype: int64"
      ]
     },
     "execution_count": 62,
     "metadata": {},
     "output_type": "execute_result"
    }
   ],
   "source": [
    "labels_df['cluster'].value_counts()"
   ]
  },
  {
   "cell_type": "code",
   "execution_count": null,
   "metadata": {},
   "outputs": [],
   "source": []
  }
 ],
 "metadata": {
  "kernelspec": {
   "display_name": "Python 3",
   "language": "python",
   "name": "python3"
  },
  "language_info": {
   "codemirror_mode": {
    "name": "ipython",
    "version": 3
   },
   "file_extension": ".py",
   "mimetype": "text/x-python",
   "name": "python",
   "nbconvert_exporter": "python",
   "pygments_lexer": "ipython3",
   "version": "3.7.6"
  }
 },
 "nbformat": 4,
 "nbformat_minor": 4
}
