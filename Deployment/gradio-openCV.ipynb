{
 "cells": [
  {
   "cell_type": "code",
   "execution_count": null,
   "metadata": {},
   "outputs": [],
   "source": [
    "pip install opencv-python"
   ]
  },
  {
   "cell_type": "code",
   "execution_count": null,
   "metadata": {},
   "outputs": [],
   "source": [
    "import cv2\n",
    "import gradio as gr\n",
    "def convert_photo_to_Sketch(image):\n",
    "  img = cv2.resize(image, (256, 256))\n",
    "  #convert image to RGB from BGR\n",
    "  RGB_img = cv2.cvtColor(img,cv2.COLOR_BGR2RGB)\n",
    "  #convert imge to grey\n",
    "  grey_img=cv2.cvtColor(RGB_img, cv2.COLOR_BGR2GRAY)\n",
    "  #invert grey scale image\n",
    "  invert_img=255-grey_img\n",
    "  #Gaussian fun to blur the image\n",
    "  blur_img=cv2.GaussianBlur(invert_img, (21,21),0)\n",
    "  #invert the blur image\n",
    "  inverted_blurred_img = 255 - blur_img\n",
    "  #skecth the image\n",
    "  sketch_img=cv2.divide(grey_img,inverted_blurred_img, scale=256.0)\n",
    "  rgb_sketch=cv2.cvtColor(sketch_img, cv2.COLOR_BGR2RGB)\n",
    "  #return the final sketched image\n",
    "  return rgb_sketch\n",
    " \n",
    "#built interface with gradio to test the function\n",
    "imagein = gr.inputs.Image(label='Original Image')\n",
    "imageout =  gr.outputs.Image(label='Sketched Image',type='pil')\n",
    "gr.Interface(fn=convert_photo_to_Sketch, inputs=imagein, outputs=imageout,title='Convert RGB Image to Sketch').launch();"
   ]
  }
 ],
 "metadata": {
  "kernelspec": {
   "display_name": "Python 3",
   "language": "python",
   "name": "python3"
  },
  "language_info": {
   "codemirror_mode": {
    "name": "ipython",
    "version": 3
   },
   "file_extension": ".py",
   "mimetype": "text/x-python",
   "name": "python",
   "nbconvert_exporter": "python",
   "pygments_lexer": "ipython3",
   "version": "3.8.5"
  }
 },
 "nbformat": 4,
 "nbformat_minor": 4
}
